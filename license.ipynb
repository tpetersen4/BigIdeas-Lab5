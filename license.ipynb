{
 "cells": [
  {
   "cell_type": "markdown",
   "metadata": {},
   "source": [
    "No Copyright\n",
    "\n",
    "The person who associated a work with this deed has dedicated the work to the\n",
    "public domain by waiving all of his or her rights to the work worldwide under\n",
    "copyright law, including all related and neighboring rights,\n",
    "to the extent allowed by law.\n",
    "\n",
    "You can copy, modify, distribute and perform the work, even for commercial\n",
    "purposes, all without asking permission. See Other Information below.\n",
    "\n",
    "Other Information:\n",
    "\n",
    "    * In no way are the patent or trademark rights of any person affected\n",
    "    by CC0, nor are the rights that other persons may have in the work or in\n",
    "    how the work is used, such as publicity or privacy rights.\n",
    "\n",
    "    * Unless expressly stated otherwise, the person who associated a work with\n",
    "    this deed makes no warranties about the work, and disclaims liability for\n",
    "    all uses of the work, to the fullest extent permitted by applicable law.\n",
    "\n",
    "    * When using or citing the work, you should not imply endorsement\n",
    "    by the author or the affirmer."
   ]
  },
  {
   "cell_type": "code",
   "execution_count": null,
   "metadata": {},
   "outputs": [],
   "source": []
  }
 ],
 "metadata": {
  "kernelspec": {
   "display_name": "Python 3",
   "language": "python",
   "name": "python3"
  },
  "language_info": {
   "codemirror_mode": {
    "name": "ipython",
    "version": 3
   },
   "file_extension": ".py",
   "mimetype": "text/x-python",
   "name": "python",
   "nbconvert_exporter": "python",
   "pygments_lexer": "ipython3",
   "version": "3.8.3"
  }
 },
 "nbformat": 4,
 "nbformat_minor": 4
}
